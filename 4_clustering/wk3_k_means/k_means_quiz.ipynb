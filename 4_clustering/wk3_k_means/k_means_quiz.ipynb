{
 "cells": [
  {
   "cell_type": "code",
   "execution_count": 7,
   "metadata": {
    "collapsed": true
   },
   "outputs": [],
   "source": [
    "import math"
   ]
  },
  {
   "cell_type": "code",
   "execution_count": 76,
   "metadata": {
    "collapsed": true
   },
   "outputs": [],
   "source": [
    "class Point(object):\n",
    "    def __init__(self, name=None, coords=None):\n",
    "        self.name = name\n",
    "        self.coords = coords\n",
    "    \n",
    "    @property\n",
    "    def x(self):\n",
    "        return self.coords[0]\n",
    "    \n",
    "    @property\n",
    "    def y(self):\n",
    "        return self.coords[1]"
   ]
  },
  {
   "cell_type": "code",
   "execution_count": 140,
   "metadata": {
    "collapsed": false
   },
   "outputs": [],
   "source": [
    "class Cluster(object):\n",
    "    def __init__(self, name=None, center=None):\n",
    "        self.name = name\n",
    "        self.center = center\n",
    "        self.members = []\n",
    "        \n",
    "    def recalculate_center(self):\n",
    "        if not self.members:\n",
    "            raise ValueError(\"No members; cannot recalculate center\")\n",
    "        total_x = 0.0\n",
    "        total_y = 0.0\n",
    "        for member in self.members:\n",
    "            total_x += member.x\n",
    "            total_y += member.y\n",
    "        num_members = len(self.members)\n",
    "        self.center = Point(coords=(total_x/num_members*1., total_y/num_members*1.))\n",
    "        \n",
    "    def calc_distance(self, p):\n",
    "        d = calc_dist(self.center, p)\n",
    "        #print(\"d=%.2f\" % (d))\n",
    "        return d\n",
    "    \n",
    "    def add_point(self, p):\n",
    "        self.members.append(p)\n",
    "        print(\"Putting %s (%.2f, %.2f) in cluster %s\" % (p.name, p.x, p.y, self.name))\n",
    "        \n",
    "    def print_members(self):\n",
    "        print(\"%s: %s\" % (self.name, [m.name for m in self.members]))"
   ]
  },
  {
   "cell_type": "code",
   "execution_count": 72,
   "metadata": {
    "collapsed": true
   },
   "outputs": [],
   "source": [
    "def calc_dist(p1, p2):\n",
    "    return math.sqrt((p1.x-p2.x)**2 + (p1.y-p2.y)**2)"
   ]
  },
  {
   "cell_type": "code",
   "execution_count": 125,
   "metadata": {
    "collapsed": true
   },
   "outputs": [],
   "source": [
    "def cluster_observations(clusters, observations):\n",
    "    for c in clusters:\n",
    "        c.members = []\n",
    "    for o in observations:\n",
    "        min_dist = None\n",
    "        cluster_idx = None\n",
    "        #print(\"Observation %s (%.2f, %.2f)\" % (o.name, o.x, o.y))\n",
    "        for i, c in enumerate(clusters):\n",
    "            if min_dist is None:\n",
    "                min_dist = c.calc_distance(o)\n",
    "                cluster_idx = i\n",
    "            else:\n",
    "                d = c.calc_distance(o)\n",
    "                if d  < min_dist:\n",
    "                    min_dist = d\n",
    "                    cluster_idx = i\n",
    "            #print(\"  Min dist = %.2f, cluster = %d\" % (min_dist, cluster_idx))\n",
    "        clusters[cluster_idx].add_point(o)"
   ]
  },
  {
   "cell_type": "code",
   "execution_count": 99,
   "metadata": {
    "collapsed": false
   },
   "outputs": [],
   "source": [
    "def recalculate_centers(clusters):\n",
    "    for c in clusters:\n",
    "        c.recalculate_center()\n",
    "        print(\"Updated center for cluster %s: (%.2f, %.2f)\" % (c.name, c.center.x, c.center.y))"
   ]
  },
  {
   "cell_type": "code",
   "execution_count": 141,
   "metadata": {
    "collapsed": true
   },
   "outputs": [],
   "source": [
    "points = [Point(name='P1', coords=(-1.88,2.05)), \n",
    "          Point(name='P2', coords=(-0.71, 0.42)), \n",
    "          Point(name='P3', coords=(2.41,-0.67)), \n",
    "          Point(name='P4', coords=(1.85, -3.8)), \n",
    "          Point(name='P5', coords=(-3.69, -1.33))]\n",
    "\n",
    "clusters = [Cluster(name='C1', center=Point(coords=(2, 2))), \n",
    "            Cluster(name='C2', center=Point(coords=(-2, -2)))]"
   ]
  },
  {
   "cell_type": "code",
   "execution_count": 142,
   "metadata": {
    "collapsed": false
   },
   "outputs": [
    {
     "name": "stdout",
     "output_type": "stream",
     "text": [
      "\n",
      "ITERATION 1\n",
      "Putting P1 (-1.88, 2.05) in cluster C1\n",
      "Putting P2 (-0.71, 0.42) in cluster C2\n",
      "Putting P3 (2.41, -0.67) in cluster C1\n",
      "Putting P4 (1.85, -3.80) in cluster C2\n",
      "Putting P5 (-3.69, -1.33) in cluster C2\n",
      "Updated center for cluster C1: (0.27, 0.69)\n",
      "Updated center for cluster C2: (-0.85, -1.57)\n",
      "C1: ['P1', 'P3']\n",
      "C2: ['P2', 'P4', 'P5']\n",
      "\n",
      "ITERATION 2\n",
      "Putting P1 (-1.88, 2.05) in cluster C1\n",
      "Putting P2 (-0.71, 0.42) in cluster C1\n",
      "Putting P3 (2.41, -0.67) in cluster C1\n",
      "Putting P4 (1.85, -3.80) in cluster C2\n",
      "Putting P5 (-3.69, -1.33) in cluster C2\n",
      "Updated center for cluster C1: (-0.06, 0.60)\n",
      "Updated center for cluster C2: (-0.92, -2.56)\n",
      "C1: ['P1', 'P2', 'P3']\n",
      "C2: ['P4', 'P5']\n",
      "\n",
      "ITERATION 3\n",
      "Putting P1 (-1.88, 2.05) in cluster C1\n",
      "Putting P2 (-0.71, 0.42) in cluster C1\n",
      "Putting P3 (2.41, -0.67) in cluster C1\n",
      "Putting P4 (1.85, -3.80) in cluster C2\n",
      "Putting P5 (-3.69, -1.33) in cluster C2\n",
      "Updated center for cluster C1: (-0.06, 0.60)\n",
      "Updated center for cluster C2: (-0.92, -2.56)\n",
      "C1: ['P1', 'P2', 'P3']\n",
      "C2: ['P4', 'P5']\n"
     ]
    }
   ],
   "source": [
    "for i in range(1,4):\n",
    "    print\n",
    "    print(\"ITERATION %d\" % (i))\n",
    "    cluster_observations(clusters, points)\n",
    "    recalculate_centers(clusters)\n",
    "    for c in clusters:\n",
    "        c.print_members()"
   ]
  },
  {
   "cell_type": "code",
   "execution_count": null,
   "metadata": {
    "collapsed": true
   },
   "outputs": [],
   "source": []
  }
 ],
 "metadata": {
  "kernelspec": {
   "display_name": "Python 2",
   "language": "python",
   "name": "python2"
  },
  "language_info": {
   "codemirror_mode": {
    "name": "ipython",
    "version": 2
   },
   "file_extension": ".py",
   "mimetype": "text/x-python",
   "name": "python",
   "nbconvert_exporter": "python",
   "pygments_lexer": "ipython2",
   "version": "2.7.11"
  }
 },
 "nbformat": 4,
 "nbformat_minor": 0
}
