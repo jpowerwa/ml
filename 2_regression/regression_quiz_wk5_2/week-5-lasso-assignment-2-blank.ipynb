{
 "cells": [
  {
   "cell_type": "markdown",
   "metadata": {},
   "source": [
    "# Regression Week 5: LASSO (coordinate descent)"
   ]
  },
  {
   "cell_type": "markdown",
   "metadata": {},
   "source": [
    "In this notebook, you will implement your very own LASSO solver via coordinate descent. You will:\n",
    "* Write a function to normalize features\n",
    "* Implement coordinate descent for LASSO\n",
    "* Explore effects of L1 penalty"
   ]
  },
  {
   "cell_type": "markdown",
   "metadata": {},
   "source": [
    "# Fire up graphlab create"
   ]
  },
  {
   "cell_type": "markdown",
   "metadata": {},
   "source": [
    "Make sure you have the latest version of graphlab (>= 1.7)"
   ]
  },
  {
   "cell_type": "code",
   "execution_count": 1,
   "metadata": {
    "collapsed": false
   },
   "outputs": [
    {
     "name": "stderr",
     "output_type": "stream",
     "text": [
      "A newer version of GraphLab Create (v1.10) is available! Your current version is v1.9.\n",
      "\n",
      "You can use pip to upgrade the graphlab-create package. For more information see https://dato.com/products/create/upgrade.\n"
     ]
    }
   ],
   "source": [
    "import numpy\n",
    "import graphlab"
   ]
  },
  {
   "cell_type": "markdown",
   "metadata": {},
   "source": [
    "# Load in house sales data\n",
    "\n",
    "Dataset is from house sales in King County, the region where the city of Seattle, WA is located."
   ]
  },
  {
   "cell_type": "code",
   "execution_count": 3,
   "metadata": {
    "collapsed": false
   },
   "outputs": [],
   "source": [
    "sales = graphlab.SFrame('../kc_house_data.gl/')\n",
    "# In the dataset, 'floors' was defined with type string, \n",
    "# so we'll convert them to int, before using it below\n",
    "sales['floors'] = sales['floors'].astype(int) "
   ]
  },
  {
   "cell_type": "markdown",
   "metadata": {},
   "source": [
    "If we want to do any \"feature engineering\" like creating new features or adjusting existing ones we should do this directly using the SFrames as seen in the first notebook of Week 2. For this notebook, however, we will work with the existing features."
   ]
  },
  {
   "cell_type": "code",
   "execution_count": 7,
   "metadata": {
    "collapsed": false
   },
   "outputs": [
    {
     "name": "stdout",
     "output_type": "stream",
     "text": [
      "+------------+---------------------------+-----------+----------+-----------+\n",
      "|     id     |            date           |   price   | bedrooms | bathrooms |\n",
      "+------------+---------------------------+-----------+----------+-----------+\n",
      "| 7129300520 | 2014-10-13 00:00:00+00:00 |  221900.0 |   3.0    |    1.0    |\n",
      "| 6414100192 | 2014-12-09 00:00:00+00:00 |  538000.0 |   3.0    |    2.25   |\n",
      "| 5631500400 | 2015-02-25 00:00:00+00:00 |  180000.0 |   2.0    |    1.0    |\n",
      "| 2487200875 | 2014-12-09 00:00:00+00:00 |  604000.0 |   4.0    |    3.0    |\n",
      "| 1954400510 | 2015-02-18 00:00:00+00:00 |  510000.0 |   3.0    |    2.0    |\n",
      "| 7237550310 | 2014-05-12 00:00:00+00:00 | 1225000.0 |   4.0    |    4.5    |\n",
      "| 1321400060 | 2014-06-27 00:00:00+00:00 |  257500.0 |   3.0    |    2.25   |\n",
      "| 2008000270 | 2015-01-15 00:00:00+00:00 |  291850.0 |   3.0    |    1.5    |\n",
      "| 2414600126 | 2015-04-15 00:00:00+00:00 |  229500.0 |   3.0    |    1.0    |\n",
      "| 3793500160 | 2015-03-12 00:00:00+00:00 |  323000.0 |   3.0    |    2.5    |\n",
      "+------------+---------------------------+-----------+----------+-----------+\n",
      "+-------------+----------+--------+------------+------+-----------+-------+------------+\n",
      "| sqft_living | sqft_lot | floors | waterfront | view | condition | grade | sqft_above |\n",
      "+-------------+----------+--------+------------+------+-----------+-------+------------+\n",
      "|    1180.0   |   5650   |   1    |     0      |  0   |     3     |   7   |    1180    |\n",
      "|    2570.0   |   7242   |   2    |     0      |  0   |     3     |   7   |    2170    |\n",
      "|    770.0    |  10000   |   1    |     0      |  0   |     3     |   6   |    770     |\n",
      "|    1960.0   |   5000   |   1    |     0      |  0   |     5     |   7   |    1050    |\n",
      "|    1680.0   |   8080   |   1    |     0      |  0   |     3     |   8   |    1680    |\n",
      "|    5420.0   |  101930  |   1    |     0      |  0   |     3     |   11  |    3890    |\n",
      "|    1715.0   |   6819   |   2    |     0      |  0   |     3     |   7   |    1715    |\n",
      "|    1060.0   |   9711   |   1    |     0      |  0   |     3     |   7   |    1060    |\n",
      "|    1780.0   |   7470   |   1    |     0      |  0   |     3     |   7   |    1050    |\n",
      "|    1890.0   |   6560   |   2    |     0      |  0   |     3     |   7   |    1890    |\n",
      "+-------------+----------+--------+------------+------+-----------+-------+------------+\n",
      "+---------------+----------+--------------+---------+-------------+\n",
      "| sqft_basement | yr_built | yr_renovated | zipcode |     lat     |\n",
      "+---------------+----------+--------------+---------+-------------+\n",
      "|       0       |   1955   |      0       |  98178  | 47.51123398 |\n",
      "|      400      |   1951   |     1991     |  98125  | 47.72102274 |\n",
      "|       0       |   1933   |      0       |  98028  | 47.73792661 |\n",
      "|      910      |   1965   |      0       |  98136  |   47.52082  |\n",
      "|       0       |   1987   |      0       |  98074  | 47.61681228 |\n",
      "|      1530     |   2001   |      0       |  98053  | 47.65611835 |\n",
      "|       0       |   1995   |      0       |  98003  | 47.30972002 |\n",
      "|       0       |   1963   |      0       |  98198  | 47.40949984 |\n",
      "|      730      |   1960   |      0       |  98146  | 47.51229381 |\n",
      "|       0       |   2003   |      0       |  98038  | 47.36840673 |\n",
      "+---------------+----------+--------------+---------+-------------+\n",
      "+---------------+---------------+-----+\n",
      "|      long     | sqft_living15 | ... |\n",
      "+---------------+---------------+-----+\n",
      "| -122.25677536 |     1340.0    | ... |\n",
      "|  -122.3188624 |     1690.0    | ... |\n",
      "| -122.23319601 |     2720.0    | ... |\n",
      "| -122.39318505 |     1360.0    | ... |\n",
      "| -122.04490059 |     1800.0    | ... |\n",
      "| -122.00528655 |     4760.0    | ... |\n",
      "| -122.32704857 |     2238.0    | ... |\n",
      "| -122.31457273 |     1650.0    | ... |\n",
      "| -122.33659507 |     1780.0    | ... |\n",
      "|  -122.0308176 |     2390.0    | ... |\n",
      "+---------------+---------------+-----+\n",
      "[21613 rows x 21 columns]\n",
      "Note: Only the head of the SFrame is printed.\n",
      "You can use print_rows(num_rows=m, num_columns=n) to print more rows and columns.\n"
     ]
    }
   ],
   "source": [
    "print sales"
   ]
  },
  {
   "cell_type": "markdown",
   "metadata": {},
   "source": [
    "# Import useful functions from previous notebook"
   ]
  },
  {
   "cell_type": "markdown",
   "metadata": {},
   "source": [
    "As in Week 2, we convert the SFrame into a 2D Numpy array. Copy and paste `get_num_data()` from the second notebook of Week 2."
   ]
  },
  {
   "cell_type": "code",
   "execution_count": 4,
   "metadata": {
    "collapsed": false
   },
   "outputs": [],
   "source": [
    "import numpy as np # note this allows us to refer to numpy as np instead "
   ]
  },
  {
   "cell_type": "code",
   "execution_count": 5,
   "metadata": {
    "collapsed": true
   },
   "outputs": [],
   "source": [
    "def get_numpy_data(feature_data, feature_names, target_feature):\n",
    "    \"\"\"\n",
    "    feature_data: SFrame mapping feature names to data values\n",
    "    feature_names: list of feature names\n",
    "    target_feature: target feature name\n",
    "    \"\"\"\n",
    "    # Add new data element 'constant' with value 1; this is for w0 (intercept)\n",
    "    feature_data['constant'] = 1 \n",
    "    \n",
    "    # Select 'constant' and specified feature columns into feature_sframe\n",
    "    selected_feature_data = feature_data.select_columns(['constant'] + feature_names)\n",
    "    \n",
    "    # Select target_feature values into output_sarray\n",
    "    output_values = feature_data[target_feature]\n",
    "    \n",
    "    # Return numpy matrix and array corresponding to feature sframe and output array\n",
    "    return (selected_feature_data.to_numpy(), output_values.to_numpy())"
   ]
  },
  {
   "cell_type": "markdown",
   "metadata": {},
   "source": [
    "Also, copy and paste the `predict_output()` function to compute the predictions for an entire matrix of features given the matrix and the weights:"
   ]
  },
  {
   "cell_type": "code",
   "execution_count": 6,
   "metadata": {
    "collapsed": true
   },
   "outputs": [],
   "source": [
    "def predict_output(feature_matrix, weights):\n",
    "    \"\"\"\n",
    "    feature_matrix: numpy matrix of feature data\n",
    "    weights: numpy array of feature weights\n",
    "    \"\"\"\n",
    "    return feature_matrix.dot(weights)"
   ]
  },
  {
   "cell_type": "markdown",
   "metadata": {},
   "source": [
    "# Normalize features\n",
    "In the house dataset, features vary wildly in their relative magnitude: `sqft_living` is very large overall compared to `bedrooms`, for instance. As a result, weight for `sqft_living` would be much smaller than weight for `bedrooms`. This is problematic because \"small\" weights are dropped first as `l1_penalty` goes up. \n",
    "\n",
    "To give equal considerations for all features, we need to **normalize features** as discussed in the lectures: we divide each feature by its 2-norm so that the transformed feature has norm 1.\n",
    "\n",
    "Let's see how we can do this normalization easily with Numpy: let us first consider a small matrix."
   ]
  },
  {
   "cell_type": "code",
   "execution_count": 13,
   "metadata": {
    "collapsed": false
   },
   "outputs": [
    {
     "name": "stdout",
     "output_type": "stream",
     "text": [
      "[[  3.   5.   8.]\n",
      " [  4.  12.  15.]]\n"
     ]
    }
   ],
   "source": [
    "X = np.array([[3.,5.,8.],[4.,12.,15.]])\n",
    "print X"
   ]
  },
  {
   "cell_type": "markdown",
   "metadata": {},
   "source": [
    "Numpy provides a shorthand for computing 2-norms of each column:"
   ]
  },
  {
   "cell_type": "code",
   "execution_count": 14,
   "metadata": {
    "collapsed": false
   },
   "outputs": [
    {
     "name": "stdout",
     "output_type": "stream",
     "text": [
      "[  5.  13.  17.]\n"
     ]
    }
   ],
   "source": [
    "norms = np.linalg.norm(X, axis=0) # gives [norm(X[:,0]), norm(X[:,1]), norm(X[:,2])]\n",
    "print norms"
   ]
  },
  {
   "cell_type": "markdown",
   "metadata": {},
   "source": [
    "To normalize, apply element-wise division:"
   ]
  },
  {
   "cell_type": "code",
   "execution_count": 15,
   "metadata": {
    "collapsed": false
   },
   "outputs": [
    {
     "name": "stdout",
     "output_type": "stream",
     "text": [
      "[[ 0.6         0.38461538  0.47058824]\n",
      " [ 0.8         0.92307692  0.88235294]]\n"
     ]
    }
   ],
   "source": [
    "print X / norms # gives [X[:,0]/norm(X[:,0]), X[:,1]/norm(X[:,1]), X[:,2]/norm(X[:,2])]"
   ]
  },
  {
   "cell_type": "markdown",
   "metadata": {},
   "source": [
    "Using the shorthand we just covered, write a short function called `normalize_features(feature_matrix)`, which normalizes columns of a given feature matrix. The function should return a pair `(normalized_features, norms)`, where the second item contains the norms of original features. As discussed in the lectures, we will use these norms to normalize the test data in the same way as we normalized the training data. "
   ]
  },
  {
   "cell_type": "code",
   "execution_count": 7,
   "metadata": {
    "collapsed": true
   },
   "outputs": [],
   "source": [
    "def normalize_features(feature_matrix):\n",
    "    \"\"\"\n",
    "    feature_matrix: numpy matrix of feature data\n",
    "    \n",
    "    return (normalized_matrix, norms)\n",
    "    \"\"\"\n",
    "    norms = np.linalg.norm(feature_matrix, axis=0)\n",
    "    return feature_matrix/norms, norms"
   ]
  },
  {
   "cell_type": "markdown",
   "metadata": {},
   "source": [
    "To test the function, run the following:"
   ]
  },
  {
   "cell_type": "code",
   "execution_count": 8,
   "metadata": {
    "collapsed": false
   },
   "outputs": [
    {
     "name": "stdout",
     "output_type": "stream",
     "text": [
      "[[ 0.6  0.6  0.6]\n",
      " [ 0.8  0.8  0.8]]\n",
      "[  5.  10.  15.]\n"
     ]
    }
   ],
   "source": [
    "features, norms = normalize_features(np.array([[3.,6.,9.],[4.,8.,12.]]))\n",
    "print features\n",
    "# should print\n",
    "# [[ 0.6  0.6  0.6]\n",
    "#  [ 0.8  0.8  0.8]]\n",
    "print norms\n",
    "# should print\n",
    "# [5.  10.  15.]"
   ]
  },
  {
   "cell_type": "markdown",
   "metadata": {},
   "source": [
    "# Implementing Coordinate Descent with normalized features"
   ]
  },
  {
   "cell_type": "markdown",
   "metadata": {},
   "source": [
    "We seek to obtain a sparse set of weights by minimizing the LASSO cost function\n",
    "```\n",
    "SUM[ (prediction - output)^2 ] + lambda*( |w[1]| + ... + |w[k]|).\n",
    "```\n",
    "(By convention, we do not include `w[0]` in the L1 penalty term. We never want to push the intercept to zero.)\n",
    "\n",
    "The absolute value sign makes the cost function non-differentiable, so simple gradient descent is not viable (you would need to implement a method called subgradient descent). Instead, we will use **coordinate descent**: at each iteration, we will fix all weights but weight `i` and find the value of weight `i` that minimizes the objective. That is, we look for\n",
    "```\n",
    "argmin_{w[i]} [ SUM[ (prediction - output)^2 ] + lambda*( |w[1]| + ... + |w[k]|) ]\n",
    "```\n",
    "where all weights other than `w[i]` are held to be constant. We will optimize one `w[i]` at a time, circling through the weights multiple times.  \n",
    "  1. Pick a coordinate `i`\n",
    "  2. Compute `w[i]` that minimizes the cost function `SUM[ (prediction - output)^2 ] + lambda*( |w[1]| + ... + |w[k]|)`\n",
    "  3. Repeat Steps 1 and 2 for all coordinates, multiple times"
   ]
  },
  {
   "cell_type": "markdown",
   "metadata": {},
   "source": [
    "For this notebook, we use **cyclical coordinate descent with normalized features**, where we cycle through coordinates 0 to (d-1) in order, and assume the features were normalized as discussed above. The formula for optimizing each coordinate is as follows:\n",
    "```\n",
    "       ┌ (ro[i] + lambda/2)     if ro[i] < -lambda/2\n",
    "w[i] = ├ 0                      if -lambda/2 <= ro[i] <= lambda/2\n",
    "       └ (ro[i] - lambda/2)     if ro[i] > lambda/2\n",
    "```\n",
    "where\n",
    "```\n",
    "ro[i] = SUM[ [feature_i]*(output - prediction + w[i]*[feature_i]) ].\n",
    "```\n",
    "\n",
    "Note that we do not regularize the weight of the constant feature (intercept) `w[0]`, so, for this weight, the update is simply:\n",
    "```\n",
    "w[0] = ro[i]\n",
    "```"
   ]
  },
  {
   "cell_type": "markdown",
   "metadata": {},
   "source": [
    "## Effect of L1 penalty"
   ]
  },
  {
   "cell_type": "markdown",
   "metadata": {},
   "source": [
    "Let us consider a simple model with 2 features:"
   ]
  },
  {
   "cell_type": "code",
   "execution_count": 10,
   "metadata": {
    "collapsed": false
   },
   "outputs": [],
   "source": [
    "simple_features = ['sqft_living', 'bedrooms']\n",
    "my_output = 'price'\n",
    "(simple_feature_matrix, output) = get_numpy_data(sales, simple_features, my_output)"
   ]
  },
  {
   "cell_type": "markdown",
   "metadata": {},
   "source": [
    "Don't forget to normalize features:"
   ]
  },
  {
   "cell_type": "code",
   "execution_count": 11,
   "metadata": {
    "collapsed": false
   },
   "outputs": [],
   "source": [
    "normalized_feature_matrix, norms = normalize_features(simple_feature_matrix)"
   ]
  },
  {
   "cell_type": "markdown",
   "metadata": {},
   "source": [
    "We assign some random set of initial weights and inspect the values of `ro[i]`:"
   ]
  },
  {
   "cell_type": "code",
   "execution_count": 15,
   "metadata": {
    "collapsed": false
   },
   "outputs": [],
   "source": [
    "weights = np.array([1., 4., 1.])"
   ]
  },
  {
   "cell_type": "markdown",
   "metadata": {},
   "source": [
    "Use `predict_output()` to make predictions on this data."
   ]
  },
  {
   "cell_type": "code",
   "execution_count": 16,
   "metadata": {
    "collapsed": false
   },
   "outputs": [],
   "source": [
    "predictions = predict_output(normalized_feature_matrix, weights)"
   ]
  },
  {
   "cell_type": "code",
   "execution_count": 17,
   "metadata": {
    "collapsed": false
   },
   "outputs": [
    {
     "name": "stdout",
     "output_type": "stream",
     "text": [
      "[ 0.02675867  0.04339256  0.01990703 ...,  0.02289873  0.03178473\n",
      "  0.02289873]\n"
     ]
    }
   ],
   "source": [
    "print predictions"
   ]
  },
  {
   "cell_type": "markdown",
   "metadata": {},
   "source": [
    "Compute the values of `ro[i]` for each feature in this simple model, using the formula given above, using the formula:\n",
    "```\n",
    "ro[i] = SUM[ [feature_i]*(output - prediction + w[i]*[feature_i]) ]\n",
    "```\n",
    "\n",
    "*Hint: You can get a Numpy vector for feature_i using:*\n",
    "```\n",
    "simple_feature_matrix[:,i]\n",
    "```"
   ]
  },
  {
   "cell_type": "code",
   "execution_count": 18,
   "metadata": {
    "collapsed": true
   },
   "outputs": [],
   "source": [
    "def calculate_ro(i, feature_matrix, output, predictions, weights):\n",
    "    f_vector = feature_matrix[:,i]\n",
    "    return np.sum(f_vector*((output-predictions + weights[i]* f_vector)))"
   ]
  },
  {
   "cell_type": "code",
   "execution_count": 31,
   "metadata": {
    "collapsed": false
   },
   "outputs": [
    {
     "name": "stdout",
     "output_type": "stream",
     "text": [
      "79400300.0349\n",
      "87939470.773\n",
      "80966698.676\n"
     ]
    }
   ],
   "source": [
    "ro_val_0 = calculate_ro(0, normalized_feature_matrix, output, predictions, weights)\n",
    "ro_val_1 = calculate_ro(1, normalized_feature_matrix, output, predictions, weights)\n",
    "ro_val_2 = calculate_ro(2, normalized_feature_matrix, output, predictions, weights)\n",
    "\n",
    "print ro_val_0\n",
    "print ro_val_1\n",
    "print ro_val_2"
   ]
  },
  {
   "cell_type": "code",
   "execution_count": 21,
   "metadata": {
    "collapsed": false
   },
   "outputs": [],
   "source": [
    "num_cols = normalized_feature_matrix.shape[1]\n",
    "ro_vals = []\n",
    "for i in range(0, num_cols):\n",
    "    ro_vals.append(calculate_ro(i, normalized_feature_matrix, output, predictions, weights))"
   ]
  },
  {
   "cell_type": "code",
   "execution_count": 22,
   "metadata": {
    "collapsed": false
   },
   "outputs": [
    {
     "name": "stdout",
     "output_type": "stream",
     "text": [
      "intercept: 79400300.0349\n",
      "sqft_living: 87939470.773\n",
      "bedrooms: 80966698.676\n"
     ]
    }
   ],
   "source": [
    "for i, ro_val in enumerate(ro_vals):\n",
    "    print(\"{0}: {1}\".format(simple_features[i-1] if i>0 else 'intercept', ro_val))"
   ]
  },
  {
   "cell_type": "markdown",
   "metadata": {},
   "source": [
    "***QUIZ QUESTION***\n",
    "\n",
    "Recall that, whenever `ro[i]` falls between `-l1_penalty/2` and `l1_penalty/2`, the corresponding weight `w[i]` is sent to zero. Now suppose we were to take one step of coordinate descent on either feature 1 or feature 2. What range of values of `l1_penalty` **would not** set `w[1]` zero, but **would** set `w[2]` to zero, if we were to take a step in that coordinate? "
   ]
  },
  {
   "cell_type": "code",
   "execution_count": 26,
   "metadata": {
    "collapsed": true
   },
   "outputs": [],
   "source": [
    "def min_lambda_for_ro(ro):\n",
    "    return ro*-2\n",
    "def max_lambda_for_ro(ro):\n",
    "    return ro*2"
   ]
  },
  {
   "cell_type": "code",
   "execution_count": 33,
   "metadata": {
    "collapsed": false
   },
   "outputs": [
    {
     "name": "stdout",
     "output_type": "stream",
     "text": [
      "w_0 zero for -1.59E+08 < lambda < 1.59E+08\n",
      "w_1 zero for -1.76E+08 < lambda < 1.76E+08\n",
      "w_2 zero for -1.62E+08 < lambda < 1.62E+08\n"
     ]
    }
   ],
   "source": [
    "min_lambda_0 = min_lambda_for_ro(ro_val_0)\n",
    "max_lambda_0 = max_lambda_for_ro(ro_val_0)\n",
    "min_lambda_1 = min_lambda_for_ro(ro_val_1)\n",
    "max_lambda_1 = max_lambda_for_ro(ro_val_1)\n",
    "min_lambda_2 = min_lambda_for_ro(ro_val_2)\n",
    "max_lambda_2 = max_lambda_for_ro(ro_val_2)\n",
    "\n",
    "print(\"w_0 zero for {0:.2E} < lambda < {1:.2E}\".format(min_lambda_0, max_lambda_0))\n",
    "print(\"w_1 zero for {0:.2E} < lambda < {1:.2E}\".format(min_lambda_1, max_lambda_1))\n",
    "print(\"w_2 zero for {0:.2E} < lambda < {1:.2E}\".format(min_lambda_2, max_lambda_2))"
   ]
  },
  {
   "cell_type": "code",
   "execution_count": 17,
   "metadata": {
    "collapsed": true
   },
   "outputs": [],
   "source": [
    "lambda_threshold_1 = 2*ro_vals[1]\n",
    "lambda_threshold_2 = 2*ro_vals[2]"
   ]
  },
  {
   "cell_type": "code",
   "execution_count": 18,
   "metadata": {
    "collapsed": false
   },
   "outputs": [
    {
     "name": "stdout",
     "output_type": "stream",
     "text": [
      "175878941.546\n",
      "161933397.352\n"
     ]
    }
   ],
   "source": [
    "print lambda_threshold_1\n",
    "print lambda_threshold_2"
   ]
  },
  {
   "cell_type": "markdown",
   "metadata": {},
   "source": [
    "***QUIZ QUESTION***\n",
    "\n",
    "What range of values of `l1_penalty` would set **both** `w[1]` and `w[2]` to zero, if we were to take a step in that coordinate? "
   ]
  },
  {
   "cell_type": "markdown",
   "metadata": {},
   "source": [
    "So we can say that `ro[i]` quantifies the significance of the i-th feature: the larger `ro[i]` is, the more likely it is for the i-th feature to be retained."
   ]
  },
  {
   "cell_type": "markdown",
   "metadata": {},
   "source": [
    "## Single Coordinate Descent Step"
   ]
  },
  {
   "cell_type": "markdown",
   "metadata": {},
   "source": [
    "Using the formula above, implement coordinate descent that minimizes the cost function over a single feature i. Note that the intercept (weight 0) is not regularized. The function should accept feature matrix, output, current weights, l1 penalty, and index of feature to optimize over. The function should return new weight for feature i."
   ]
  },
  {
   "cell_type": "code",
   "execution_count": 181,
   "metadata": {
    "collapsed": true
   },
   "outputs": [],
   "source": [
    "def lasso_coordinate_descent_step(i, feature_matrix, output, weights, l1_penalty):\n",
    "    # compute prediction\n",
    "    predictions = predict_output(feature_matrix, weights)\n",
    "    # compute ro[i] = SUM[ [feature_i]*(output - prediction + weight[i]*[feature_i]) ]\n",
    "    ro_i = calculate_ro(i, feature_matrix, output, predictions, weights)\n",
    "  \n",
    "    lambda_threshold = l1_penalty/2.\n",
    "    if i == 0: # intercept -- do not regularize\n",
    "        new_weight_i = ro_i \n",
    "    elif ro_i < -1*lambda_threshold:\n",
    "        new_weight_i = ro_i + lambda_threshold\n",
    "    elif ro_i > lambda_threshold:\n",
    "        new_weight_i = ro_i - lambda_threshold\n",
    "    else:\n",
    "        new_weight_i = 0.\n",
    "    \n",
    "    return new_weight_i"
   ]
  },
  {
   "cell_type": "markdown",
   "metadata": {},
   "source": [
    "To test the function, run the following cell:"
   ]
  },
  {
   "cell_type": "code",
   "execution_count": 182,
   "metadata": {
    "collapsed": false
   },
   "outputs": [
    {
     "name": "stdout",
     "output_type": "stream",
     "text": [
      "0.425558846691\n"
     ]
    }
   ],
   "source": [
    "# should print 0.425558846691\n",
    "import math\n",
    "\n",
    "m = np.array([[3./math.sqrt(13), 1./math.sqrt(10)], [2./math.sqrt(13), 3./math.sqrt(10)]])\n",
    "o = np.array([1., 1.])\n",
    "w = np.array([1., 4.])\n",
    "l1_penalty = 0.1\n",
    "print lasso_coordinate_descent_step(1, m, o, w, l1_penalty)"
   ]
  },
  {
   "cell_type": "markdown",
   "metadata": {
    "collapsed": true
   },
   "source": [
    "## Cyclical coordinate descent "
   ]
  },
  {
   "cell_type": "markdown",
   "metadata": {},
   "source": [
    "Now that we have a function that optimizes the cost function over a single coordinate, let us implement cyclical coordinate descent where we optimize coordinates 0, 1, ..., (d-1) in order and repeat.\n",
    "\n",
    "When do we know to stop? Each time we scan all the coordinates (features) once, we measure the change in weight for each coordinate. If no coordinate changes by more than a specified threshold, we stop."
   ]
  },
  {
   "cell_type": "markdown",
   "metadata": {},
   "source": [
    "For each iteration:\n",
    "1. As you loop over features in order and perform coordinate descent, measure how much each coordinate changes.\n",
    "2. After the loop, if the maximum change across all coordinates is falls below the tolerance, stop. Otherwise, go back to step 1.\n",
    "\n",
    "Return weights\n",
    "\n",
    "**IMPORTANT: when computing a new weight for coordinate i, make sure to incorporate the new weights for coordinates 0, 1, ..., i-1. One good way is to update your weights variable in-place. See following pseudocode for illustration.**\n",
    "```\n",
    "for i in range(len(weights)):\n",
    "    old_weights_i = weights[i] # remember old value of weight[i], as it will be overwritten\n",
    "    # the following line uses new values for weight[0], weight[1], ..., weight[i-1]\n",
    "    #     and old values for weight[i], ..., weight[d-1]\n",
    "    weights[i] = lasso_coordinate_descent_step(i, feature_matrix, output, weights, l1_penalty)\n",
    "    \n",
    "    # use old_weights_i to compute change in coordinate\n",
    "    ...\n",
    "```"
   ]
  },
  {
   "cell_type": "code",
   "execution_count": 183,
   "metadata": {
    "collapsed": false
   },
   "outputs": [],
   "source": [
    "import copy\n",
    "def lasso_cyclical_coordinate_descent(feature_matrix, output, initial_weights, l1_penalty, tolerance):\n",
    "    max_iterations = 200\n",
    "    converged = False\n",
    "    iterations = 0\n",
    "    weights = copy.copy(initial_weights)\n",
    "    while not converged and iterations < max_iterations:\n",
    "        iterations += 1\n",
    "        max_step_size = None\n",
    "        for i in range(len(weights)):\n",
    "            orig_weight = weights[i]\n",
    "            weights[i] = lasso_coordinate_descent_step(i, feature_matrix, output, weights, l1_penalty)\n",
    "            step_size = abs(orig_weight - weights[i])\n",
    "            if max_step_size is None or step_size > max_step_size:\n",
    "                max_step_size = step_size\n",
    "        if iterations%10 == 0:        \n",
    "            print(\"[{0}] max_step_size={1:.2E}\".format(iterations, max_step_size))\n",
    "        converged = max_step_size < tolerance\n",
    "        if converged:\n",
    "            print(\"Converged with max_step_size = {0:.2E}\".format(max_step_size))\n",
    "\n",
    "    return weights"
   ]
  },
  {
   "cell_type": "markdown",
   "metadata": {},
   "source": [
    "Using the following parameters, learn the weights on the sales dataset. "
   ]
  },
  {
   "cell_type": "code",
   "execution_count": 184,
   "metadata": {
    "collapsed": false
   },
   "outputs": [],
   "source": [
    "simple_features = ['sqft_living', 'bedrooms']\n",
    "my_output = 'price'\n",
    "initial_weights = np.zeros(3)\n",
    "l1_penalty = 1e7\n",
    "tolerance = 1.0"
   ]
  },
  {
   "cell_type": "markdown",
   "metadata": {},
   "source": [
    "First create a normalized version of the feature matrix, `normalized_simple_feature_matrix`"
   ]
  },
  {
   "cell_type": "code",
   "execution_count": 185,
   "metadata": {
    "collapsed": true
   },
   "outputs": [],
   "source": [
    "(simple_feature_matrix, output) = get_numpy_data(sales, simple_features, my_output)\n",
    "(normalized_simple_feature_matrix, simple_norms) = normalize_features(simple_feature_matrix) # normalize features"
   ]
  },
  {
   "cell_type": "markdown",
   "metadata": {},
   "source": [
    "Then, run your implementation of LASSO coordinate descent:"
   ]
  },
  {
   "cell_type": "code",
   "execution_count": 186,
   "metadata": {
    "collapsed": false
   },
   "outputs": [
    {
     "name": "stdout",
     "output_type": "stream",
     "text": [
      "[10] max_step_size=2.27E+06\n",
      "[20] max_step_size=3.82E+05\n",
      "[30] max_step_size=6.43E+04\n",
      "[40] max_step_size=1.08E+04\n",
      "[50] max_step_size=1.82E+03\n",
      "[60] max_step_size=3.07E+02\n",
      "[70] max_step_size=5.17E+01\n",
      "[80] max_step_size=8.71E+00\n",
      "[90] max_step_size=1.47E+00\n",
      "Converged with max_step_size = 8.60E-01\n"
     ]
    }
   ],
   "source": [
    "optimized_weights = lasso_cyclical_coordinate_descent(\n",
    "    normalized_simple_feature_matrix, \n",
    "    output,\n",
    "    np.zeros(3),\n",
    "    l1_penalty, \n",
    "    tolerance)"
   ]
  },
  {
   "cell_type": "code",
   "execution_count": 187,
   "metadata": {
    "collapsed": false
   },
   "outputs": [
    {
     "name": "stdout",
     "output_type": "stream",
     "text": [
      "intercept: 21624998.3664\n",
      "sqft_living: 63157246.7855\n",
      "bedrooms: 0.0\n"
     ]
    }
   ],
   "source": [
    "for i, w in enumerate(optimized_weights):\n",
    "    print(\"{0}: {1}\".format(simple_features[i-1] if i>0 else 'intercept', w))"
   ]
  },
  {
   "cell_type": "code",
   "execution_count": 151,
   "metadata": {
    "collapsed": false
   },
   "outputs": [
    {
     "name": "stdout",
     "output_type": "stream",
     "text": [
      "[ 21624998.36636292  63157246.78545421         0.        ]\n",
      "['sqft_living', 'bedrooms']\n"
     ]
    }
   ],
   "source": [
    "print optimized_weights\n",
    "print simple_features"
   ]
  },
  {
   "cell_type": "markdown",
   "metadata": {},
   "source": [
    "***QUIZ QUESTIONS***\n",
    "1. What is the RSS of the learned model on the normalized dataset?\n",
    "2. Which features had weight zero at convergence?"
   ]
  },
  {
   "cell_type": "code",
   "execution_count": 188,
   "metadata": {
    "collapsed": false
   },
   "outputs": [
    {
     "name": "stdout",
     "output_type": "stream",
     "text": [
      "1.63E+15\n"
     ]
    }
   ],
   "source": [
    "optimized_predictions = predict_output(normalized_simple_feature_matrix, optimized_weights)\n",
    "residuals = optimized_predictions - output\n",
    "RSS = (residuals.dot(residuals)).sum()\n",
    "print('%.2E' % RSS)"
   ]
  },
  {
   "cell_type": "markdown",
   "metadata": {},
   "source": [
    "# Evaluating LASSO fit with more features"
   ]
  },
  {
   "cell_type": "markdown",
   "metadata": {},
   "source": [
    "Let us split the sales dataset into training and test sets."
   ]
  },
  {
   "cell_type": "code",
   "execution_count": 130,
   "metadata": {
    "collapsed": true
   },
   "outputs": [],
   "source": [
    "train_data, test_data = sales.random_split(.8, seed=0)"
   ]
  },
  {
   "cell_type": "markdown",
   "metadata": {},
   "source": [
    "Let us consider the following set of features."
   ]
  },
  {
   "cell_type": "code",
   "execution_count": 189,
   "metadata": {
    "collapsed": true
   },
   "outputs": [],
   "source": [
    "all_features = ['bedrooms',\n",
    "                'bathrooms',\n",
    "                'sqft_living',\n",
    "                'sqft_lot',\n",
    "                'floors',\n",
    "                'waterfront', \n",
    "                'view', \n",
    "                'condition', \n",
    "                'grade',\n",
    "                'sqft_above',\n",
    "                'sqft_basement',\n",
    "                'yr_built', \n",
    "                'yr_renovated']"
   ]
  },
  {
   "cell_type": "markdown",
   "metadata": {},
   "source": [
    "First, create a normalized feature matrix from the TRAINING data with these features.  (Make you store the norms for the normalization, since we'll use them later)"
   ]
  },
  {
   "cell_type": "code",
   "execution_count": 144,
   "metadata": {
    "collapsed": false
   },
   "outputs": [],
   "source": [
    "(all_feature_matrix, all_feature_output) = get_numpy_data(train_data, all_features, 'price')\n",
    "(normalized_all_feature_matrix, all_feature_norms) = normalize_features(all_feature_matrix) "
   ]
  },
  {
   "cell_type": "markdown",
   "metadata": {},
   "source": [
    "First, learn the weights with `l1_penalty=1e7`, on the training data. Initialize weights to all zeros, and set the `tolerance=1`.  Call resulting weights `weights1e7`, you will need them later."
   ]
  },
  {
   "cell_type": "code",
   "execution_count": 197,
   "metadata": {
    "collapsed": false
   },
   "outputs": [
    {
     "name": "stdout",
     "output_type": "stream",
     "text": [
      "[10] max_step_size=2.71E+06\n",
      "[20] max_step_size=2.23E+05\n",
      "[30] max_step_size=4.03E+04\n",
      "[40] max_step_size=7.31E+03\n",
      "[50] max_step_size=1.32E+03\n",
      "[60] max_step_size=2.40E+02\n",
      "[70] max_step_size=4.34E+01\n",
      "[80] max_step_size=7.86E+00\n",
      "[90] max_step_size=1.42E+00\n",
      "Converged with max_step_size = 8.53E-01\n"
     ]
    }
   ],
   "source": [
    "num_features = len(all_features)\n",
    "weights_1e7 = lasso_cyclical_coordinate_descent(\n",
    "    normalized_all_feature_matrix, \n",
    "    all_feature_output,\n",
    "    np.zeros(num_features+1),\n",
    "    1e7, \n",
    "    1.)"
   ]
  },
  {
   "cell_type": "code",
   "execution_count": 198,
   "metadata": {
    "collapsed": false
   },
   "outputs": [
    {
     "name": "stdout",
     "output_type": "stream",
     "text": [
      "intercept: 24429600.6093\n",
      "sqft_living: 48389174.3523\n",
      "waterfront: 3317511.16272\n",
      "view: 7329961.9849\n"
     ]
    }
   ],
   "source": [
    "for i, w in enumerate(weights_1e7):\n",
    "    if w != 0:\n",
    "        print(\"{0}: {1}\".format(all_features[i-1] if i>0 else 'intercept', w))"
   ]
  },
  {
   "cell_type": "markdown",
   "metadata": {},
   "source": [
    "***QUIZ QUESTION***\n",
    "\n",
    "What features had non-zero weight in this case?"
   ]
  },
  {
   "cell_type": "markdown",
   "metadata": {
    "collapsed": true
   },
   "source": [
    "Next, learn the weights with `l1_penalty=1e8`, on the training data. Initialize weights to all zeros, and set the `tolerance=1`.  Call resulting weights `weights1e8`, you will need them later."
   ]
  },
  {
   "cell_type": "code",
   "execution_count": 199,
   "metadata": {
    "collapsed": false
   },
   "outputs": [
    {
     "name": "stdout",
     "output_type": "stream",
     "text": [
      "Converged with max_step_size = 0.00E+00\n"
     ]
    }
   ],
   "source": [
    "weights_1e8 = lasso_cyclical_coordinate_descent(\n",
    "    normalized_all_feature_matrix, \n",
    "    all_feature_output,\n",
    "    np.zeros(num_features+1),\n",
    "    1e8, \n",
    "    1.)"
   ]
  },
  {
   "cell_type": "code",
   "execution_count": 202,
   "metadata": {
    "collapsed": false
   },
   "outputs": [
    {
     "name": "stdout",
     "output_type": "stream",
     "text": [
      "intercept: 71114625.7528\n"
     ]
    }
   ],
   "source": [
    "for i, w in enumerate(weights_1e8):\n",
    "    if w != 0:\n",
    "        print(\"{0}: {1}\".format(all_features[i-1] if i>0 else 'intercept', w))"
   ]
  },
  {
   "cell_type": "markdown",
   "metadata": {},
   "source": [
    "***QUIZ QUESTION***\n",
    "\n",
    "What features had non-zero weight in this case?"
   ]
  },
  {
   "cell_type": "markdown",
   "metadata": {},
   "source": [
    "Finally, learn the weights with `l1_penalty=1e4`, on the training data. Initialize weights to all zeros, and set the `tolerance=5e5`.  Call resulting weights `weights1e4`, you will need them later.  (This case will take quite a bit longer to converge than the others above.)"
   ]
  },
  {
   "cell_type": "code",
   "execution_count": 203,
   "metadata": {
    "collapsed": false
   },
   "outputs": [
    {
     "name": "stdout",
     "output_type": "stream",
     "text": [
      "[10] max_step_size=1.67E+06\n",
      "[20] max_step_size=1.16E+06\n",
      "[30] max_step_size=1.08E+06\n",
      "[40] max_step_size=9.59E+05\n",
      "[50] max_step_size=8.28E+05\n",
      "[60] max_step_size=7.14E+05\n",
      "[70] max_step_size=6.19E+05\n",
      "[80] max_step_size=5.46E+05\n",
      "[90] max_step_size=4.90E+05\n",
      "[100] max_step_size=4.47E+05\n",
      "[110] max_step_size=4.23E+05\n",
      "[120] max_step_size=4.13E+05\n",
      "[130] max_step_size=4.02E+05\n",
      "[140] max_step_size=3.91E+05\n",
      "[150] max_step_size=3.79E+05\n",
      "[160] max_step_size=3.67E+05\n",
      "[170] max_step_size=3.55E+05\n",
      "[180] max_step_size=3.44E+05\n",
      "[190] max_step_size=3.33E+05\n",
      "[200] max_step_size=3.22E+05\n"
     ]
    }
   ],
   "source": [
    "weights_1e4 = lasso_cyclical_coordinate_descent(\n",
    "    normalized_all_feature_matrix, \n",
    "    all_feature_output,\n",
    "    np.zeros(num_features+1),\n",
    "    1e4, \n",
    "    1.)"
   ]
  },
  {
   "cell_type": "code",
   "execution_count": 204,
   "metadata": {
    "collapsed": false
   },
   "outputs": [
    {
     "name": "stdout",
     "output_type": "stream",
     "text": [
      "intercept: 86227959.2313\n",
      "bedrooms: -21111518.6704\n",
      "bathrooms: 8753680.50069\n",
      "sqft_living: 130999328.698\n",
      "sqft_lot: -1986853.70587\n",
      "floors: -6284165.96517\n",
      "waterfront: 6590240.20596\n",
      "view: 6494170.87813\n",
      "condition: 11316702.1308\n",
      "grade: 53322021.0346\n",
      "sqft_above: -53729383.2344\n",
      "sqft_basement: -15085545.1717\n",
      "yr_built: -126114586.371\n",
      "yr_renovated: 2931209.74949\n"
     ]
    }
   ],
   "source": [
    "for i, w in enumerate(weights_1e4):\n",
    "    if w != 0:\n",
    "        print(\"{0}: {1}\".format(all_features[i-1] if i>0 else 'intercept', w))"
   ]
  },
  {
   "cell_type": "markdown",
   "metadata": {},
   "source": [
    "***QUIZ QUESTION***\n",
    "\n",
    "What features had non-zero weight in this case?"
   ]
  },
  {
   "cell_type": "markdown",
   "metadata": {},
   "source": [
    "## Rescaling learned weights"
   ]
  },
  {
   "cell_type": "markdown",
   "metadata": {},
   "source": [
    "Recall that we normalized our feature matrix, before learning the weights.  To use these weights on a test set, we must normalize the test data in the same way.\n",
    "\n",
    "Alternatively, we can rescale the learned weights to include the normalization, so we never have to worry about normalizing the test data: \n",
    "\n",
    "In this case, we must scale the resulting weights so that we can make predictions with *original* features:\n",
    " 1. Store the norms of the original features to a vector called `norms`:\n",
    "```\n",
    "features, norms = normalize_features(features)\n",
    "```\n",
    " 2. Run Lasso on the normalized features and obtain a `weights` vector\n",
    " 3. Compute the weights for the original features by performing element-wise division, i.e.\n",
    "```\n",
    "weights_normalized = weights / norms\n",
    "```\n",
    "Now, we can apply `weights_normalized` to the test data, without normalizing it!"
   ]
  },
  {
   "cell_type": "markdown",
   "metadata": {},
   "source": [
    "Create a normalized version of each of the weights learned above. (`weights1e4`, `weights1e7`, `weights1e8`)."
   ]
  },
  {
   "cell_type": "code",
   "execution_count": 205,
   "metadata": {
    "collapsed": true
   },
   "outputs": [],
   "source": [
    "def get_normalized_weights(l1_penalty):\n",
    "    (feature_matrix, output) = get_numpy_data(train_data, all_features, 'price')\n",
    "    (norm_feature_matrix, norms) = normalize_features(feature_matrix) \n",
    "    weights = lasso_cyclical_coordinate_descent(\n",
    "        norm_feature_matrix, \n",
    "        output,\n",
    "        np.zeros(len(all_features)+1),\n",
    "        l1_penalty,\n",
    "        1.)\n",
    "    return weights/norms"
   ]
  },
  {
   "cell_type": "code",
   "execution_count": 206,
   "metadata": {
    "collapsed": false
   },
   "outputs": [
    {
     "name": "stdout",
     "output_type": "stream",
     "text": [
      "[10] max_step_size=2.71E+06\n",
      "[20] max_step_size=2.23E+05\n",
      "[30] max_step_size=4.03E+04\n",
      "[40] max_step_size=7.31E+03\n",
      "[50] max_step_size=1.32E+03\n",
      "[60] max_step_size=2.40E+02\n",
      "[70] max_step_size=4.34E+01\n",
      "[80] max_step_size=7.86E+00\n",
      "[90] max_step_size=1.42E+00\n",
      "Converged with max_step_size = 8.53E-01\n"
     ]
    }
   ],
   "source": [
    "normalized_weights1e7 = get_normalized_weights(1e7)"
   ]
  },
  {
   "cell_type": "code",
   "execution_count": 207,
   "metadata": {
    "collapsed": false
   },
   "outputs": [
    {
     "name": "stdout",
     "output_type": "stream",
     "text": [
      "161.317456248\n"
     ]
    }
   ],
   "source": [
    "print normalized_weights1e7[3]"
   ]
  },
  {
   "cell_type": "markdown",
   "metadata": {},
   "source": [
    "To check your results, if you call `normalized_weights1e7` the normalized version of `weights1e7`, then:\n",
    "```\n",
    "print normalized_weights1e7[3]\n",
    "```\n",
    "should return 161.31745624837794."
   ]
  },
  {
   "cell_type": "code",
   "execution_count": 208,
   "metadata": {
    "collapsed": false
   },
   "outputs": [
    {
     "name": "stdout",
     "output_type": "stream",
     "text": [
      "Converged with max_step_size = 0.00E+00\n"
     ]
    }
   ],
   "source": [
    "normalized_weights1e8 = get_normalized_weights(1e8)"
   ]
  },
  {
   "cell_type": "code",
   "execution_count": 209,
   "metadata": {
    "collapsed": false
   },
   "outputs": [
    {
     "name": "stdout",
     "output_type": "stream",
     "text": [
      "[10] max_step_size=1.67E+06\n",
      "[20] max_step_size=1.16E+06\n",
      "[30] max_step_size=1.08E+06\n",
      "[40] max_step_size=9.59E+05\n",
      "[50] max_step_size=8.28E+05\n",
      "[60] max_step_size=7.14E+05\n",
      "[70] max_step_size=6.19E+05\n",
      "[80] max_step_size=5.46E+05\n",
      "[90] max_step_size=4.90E+05\n",
      "[100] max_step_size=4.47E+05\n",
      "[110] max_step_size=4.23E+05\n",
      "[120] max_step_size=4.13E+05\n",
      "[130] max_step_size=4.02E+05\n",
      "[140] max_step_size=3.91E+05\n",
      "[150] max_step_size=3.79E+05\n",
      "[160] max_step_size=3.67E+05\n",
      "[170] max_step_size=3.55E+05\n",
      "[180] max_step_size=3.44E+05\n",
      "[190] max_step_size=3.33E+05\n",
      "[200] max_step_size=3.22E+05\n"
     ]
    }
   ],
   "source": [
    "normalized_weights1e4 = get_normalized_weights(1e4)"
   ]
  },
  {
   "cell_type": "markdown",
   "metadata": {},
   "source": [
    "## Evaluating each of the learned models on the test data"
   ]
  },
  {
   "cell_type": "markdown",
   "metadata": {},
   "source": [
    "Let's now evaluate the three models on the test data:"
   ]
  },
  {
   "cell_type": "code",
   "execution_count": 215,
   "metadata": {
    "collapsed": true
   },
   "outputs": [],
   "source": [
    "(test_feature_matrix, test_output) = get_numpy_data(test_data, all_features, 'price')"
   ]
  },
  {
   "cell_type": "markdown",
   "metadata": {},
   "source": [
    "Compute the RSS of each of the three normalized weights on the (unnormalized) `test_feature_matrix`:"
   ]
  },
  {
   "cell_type": "code",
   "execution_count": 216,
   "metadata": {
    "collapsed": true
   },
   "outputs": [],
   "source": [
    "def calculate_rss(normalized_weights):\n",
    "    predictions = predict_output(test_feature_matrix, normalized_weights)\n",
    "    residuals = predictions - test_output\n",
    "    return (residuals.dot(residuals)).sum()"
   ]
  },
  {
   "cell_type": "code",
   "execution_count": 217,
   "metadata": {
    "collapsed": false
   },
   "outputs": [],
   "source": [
    "rss_1e7 = calculate_rss(normalized_weights1e7)\n",
    "rss_1e8 = calculate_rss(normalized_weights1e8)\n",
    "rss_1e4 = calculate_rss(normalized_weights1e4)"
   ]
  },
  {
   "cell_type": "code",
   "execution_count": 218,
   "metadata": {
    "collapsed": false
   },
   "outputs": [
    {
     "name": "stdout",
     "output_type": "stream",
     "text": [
      "rss 1e7: 2.75962079909e+14 (2.76E+14)\n",
      "rss 1e8: 5.37166150034e+14 (5.37E+14)\n",
      "rss 1e4: 2.14773677565e+14 (2.15E+14)\n"
     ]
    }
   ],
   "source": [
    "print(\"rss 1e7: {0} ({0:.2E})\".format(rss_1e7))\n",
    "print(\"rss 1e8: {0} ({0:.2E})\".format(rss_1e8))\n",
    "print(\"rss 1e4: {0} ({0:.2E})\".format(rss_1e4))"
   ]
  },
  {
   "cell_type": "markdown",
   "metadata": {},
   "source": [
    "***QUIZ QUESTION***\n",
    "\n",
    "Which model performed best on the test data?"
   ]
  }
 ],
 "metadata": {
  "kernelspec": {
   "display_name": "Python 2",
   "language": "python",
   "name": "python2"
  },
  "language_info": {
   "codemirror_mode": {
    "name": "ipython",
    "version": 2
   },
   "file_extension": ".py",
   "mimetype": "text/x-python",
   "name": "python",
   "nbconvert_exporter": "python",
   "pygments_lexer": "ipython2",
   "version": "2.7.11"
  }
 },
 "nbformat": 4,
 "nbformat_minor": 0
}
